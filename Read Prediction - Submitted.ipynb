{
 "cells": [
  {
   "cell_type": "code",
   "execution_count": 1,
   "metadata": {},
   "outputs": [],
   "source": [
    "import gzip\n",
    "from collections import defaultdict\n",
    "import csv\n",
    "from tqdm import tqdm\n",
    "from tqdm.notebook import trange, tqdm\n",
    "from sklearn.model_selection import train_test_split\n",
    "from sklearn.metrics.pairwise import cosine_similarity\n",
    "from sklearn.metrics import accuracy_score\n",
    "import random\n",
    "import numpy as np\n",
    "import scipy as sp\n",
    "import math\n",
    "from sklearn.feature_extraction.text import CountVectorizer\n",
    "from scipy.spatial.distance import pdist, squareform"
   ]
  },
  {
   "cell_type": "code",
   "execution_count": 2,
   "metadata": {},
   "outputs": [
    {
     "data": {
      "text/plain": [
       "['userID', 'bookID', 'rating']"
      ]
     },
     "execution_count": 2,
     "metadata": {},
     "output_type": "execute_result"
    }
   ],
   "source": [
    "path = \"Downloads/assignment1/train_Interactions.csv.gz\"\n",
    "f = gzip.open(path, 'rt')\n",
    "header = f.readline()\n",
    "header = header.strip().split(',')\n",
    "header"
   ]
  },
  {
   "cell_type": "code",
   "execution_count": 3,
   "metadata": {},
   "outputs": [],
   "source": [
    "dataset = []\n",
    "for line in f:\n",
    "    fields = line.strip().split(',')\n",
    "    d = dict(zip(header, fields))\n",
    "    d['rating'] = int(d['rating'])\n",
    "    dataset.append(d)"
   ]
  },
  {
   "cell_type": "code",
   "execution_count": 4,
   "metadata": {},
   "outputs": [
    {
     "data": {
      "text/plain": [
       "{'userID': 'u79354815', 'bookID': 'b14275065', 'rating': 4}"
      ]
     },
     "execution_count": 4,
     "metadata": {},
     "output_type": "execute_result"
    }
   ],
   "source": [
    "dataset[0]"
   ]
  },
  {
   "cell_type": "markdown",
   "metadata": {},
   "source": [
    "#### Parsing Data"
   ]
  },
  {
   "cell_type": "code",
   "execution_count": 5,
   "metadata": {},
   "outputs": [],
   "source": [
    "usersPerBook = defaultdict(set)\n",
    "BooksPerUser = defaultdict(set)\n",
    "books = set()\n",
    "for d in dataset:\n",
    "    u,b = d['userID'], d['bookID']\n",
    "    usersPerBook[b].add(u)\n",
    "    BooksPerUser[u].add(b)\n",
    "    if (b not in books):\n",
    "        books.add(b)"
   ]
  },
  {
   "cell_type": "code",
   "execution_count": 6,
   "metadata": {},
   "outputs": [],
   "source": [
    "X_train = dataset[:190000]\n",
    "X_valid = dataset[190000:]"
   ]
  },
  {
   "cell_type": "code",
   "execution_count": null,
   "metadata": {},
   "outputs": [],
   "source": []
  },
  {
   "cell_type": "code",
   "execution_count": 7,
   "metadata": {},
   "outputs": [],
   "source": [
    "def readCSV(path):\n",
    "    f = gzip.open(path, 'rt')\n",
    "    f.readline()\n",
    "    for l in f:\n",
    "        yield l.strip().split(',')\n",
    "    \n",
    "bookCount = defaultdict(int)\n",
    "totalRead = 0\n",
    "\n",
    "for user,book,_ in readCSV(\"Downloads/assignment1/train_Interactions.csv.gz\"):\n",
    "    bookCount[book] += 1\n",
    "    totalRead += 1\n",
    "\n",
    "mostPopular = [(bookCount[x], x) for x in bookCount]\n",
    "mostPopular.sort()\n",
    "mostPopular.reverse()"
   ]
  },
  {
   "cell_type": "code",
   "execution_count": null,
   "metadata": {},
   "outputs": [],
   "source": []
  },
  {
   "cell_type": "code",
   "execution_count": 8,
   "metadata": {},
   "outputs": [],
   "source": [
    "def popularity(book):\n",
    "    count = 0\n",
    "    for b in mostPopular:\n",
    "        if b[1] != book:\n",
    "            count = count + b[0]\n",
    "        else:\n",
    "            count = count + b[0]\n",
    "            break\n",
    "    #print(count/totalRead)\n",
    "    return (count/totalRead)"
   ]
  },
  {
   "cell_type": "code",
   "execution_count": 9,
   "metadata": {},
   "outputs": [],
   "source": [
    "def Jaccard(s1, s2):\n",
    "    numer = len(s1.intersection(s2))\n",
    "    denom = len(s1.union(s2))\n",
    "    if denom > 0:\n",
    "        return numer/denom\n",
    "    return 0"
   ]
  },
  {
   "cell_type": "code",
   "execution_count": 10,
   "metadata": {},
   "outputs": [],
   "source": [
    "def Jaccard_score(u, b):\n",
    "    similarities = []\n",
    "    users = set(usersPerBook[b])\n",
    "    for b2 in BooksPerUser[u]:\n",
    "        sim = Jaccard(users,set(usersPerBook[b2]))\n",
    "        if sim > 0:\n",
    "            similarities.append(sim)\n",
    "    similarities.sort()\n",
    "    if len(similarities) == 0: return 0\n",
    "    average = np.mean(similarities)\n",
    "    return average"
   ]
  },
  {
   "cell_type": "code",
   "execution_count": 11,
   "metadata": {},
   "outputs": [],
   "source": [
    "def Jaccard_score_book(u, b):\n",
    "    similarities = []\n",
    "    uprime = usersPerBook[b]\n",
    "    for i in uprime:\n",
    "        user = BooksPerUser[i]\n",
    "        candidateItems = u\n",
    "        sim = Jaccard(user, BooksPerUser[candidateItems])\n",
    "        if sim > 0:\n",
    "            similarities.append(sim)\n",
    "    similarities.sort()\n",
    "    #print(len(similarities))\n",
    "    if len(similarities) == 0: return 0\n",
    "    return max(similarities)"
   ]
  },
  {
   "cell_type": "code",
   "execution_count": 12,
   "metadata": {},
   "outputs": [],
   "source": [
    "def cos_sim(a,b):\n",
    "    numer = len(a.intersection(b))\n",
    "    denom = len(a) * len(b)\n",
    "    if denom > 0:\n",
    "        return numer/denom\n",
    "    return 0"
   ]
  },
  {
   "cell_type": "code",
   "execution_count": 13,
   "metadata": {},
   "outputs": [],
   "source": [
    "def cos_score(u,b):\n",
    "    similarities = []\n",
    "    uprime = usersPerBook[b]\n",
    "    for i in uprime:\n",
    "        book = BooksPerUser[i]\n",
    "        candidateItems = u\n",
    "        sim = cos_sim(book, BooksPerUser[candidateItems])\n",
    "        if sim > 0:\n",
    "            similarities.append(sim)\n",
    "    similarities.sort()\n",
    "    #print(len(similarities))\n",
    "    if len(similarities) == 0: return 0\n",
    "    return max(similarities)"
   ]
  },
  {
   "cell_type": "code",
   "execution_count": null,
   "metadata": {},
   "outputs": [],
   "source": []
  },
  {
   "cell_type": "code",
   "execution_count": 14,
   "metadata": {},
   "outputs": [],
   "source": [
    "test_data = []\n",
    "for l in open(\"Downloads/assignment1/pairs_Read.txt\"):\n",
    "    if l.startswith(\"userID\"):\n",
    "        continue\n",
    "    u,b = l.strip().split('-')\n",
    "    test_data.append((u,b))"
   ]
  },
  {
   "cell_type": "code",
   "execution_count": 15,
   "metadata": {},
   "outputs": [],
   "source": [
    "BooksPerUserTest = defaultdict(set)\n",
    "for d in test_data:\n",
    "    u,b = d[0], d[1]\n",
    "    BooksPerUserTest[u].add(b)"
   ]
  },
  {
   "cell_type": "code",
   "execution_count": 16,
   "metadata": {},
   "outputs": [],
   "source": [
    "BooksPerUserScore = defaultdict(set)\n",
    "for u in BooksPerUserTest:\n",
    "    for b in BooksPerUserTest[u]:\n",
    "        pop = popularity(b)\n",
    "        jac = Jaccard_score(u,b)\n",
    "        cos = cos_score(u,b)\n",
    "        #jacc2 = Jaccard_score_book(u,b)\n",
    "        dp = (jac * cos) / pop\n",
    "        BooksPerUserScore[u].add((dp, b))"
   ]
  },
  {
   "cell_type": "code",
   "execution_count": null,
   "metadata": {},
   "outputs": [],
   "source": []
  },
  {
   "cell_type": "code",
   "execution_count": 17,
   "metadata": {},
   "outputs": [],
   "source": [
    "rank = []\n",
    "for u in BooksPerUserScore:\n",
    "    BooksPerUserScore[u] = sorted(BooksPerUserScore[u], reverse = True)\n",
    "    length = math.ceil(len(BooksPerUserScore[u])/2)\n",
    "    count = 0\n",
    "    for pair in BooksPerUserScore[u]:\n",
    "        if count != length:\n",
    "            rank.append((u,pair[1]))\n",
    "            count = count + 1\n",
    "        else:\n",
    "            break"
   ]
  },
  {
   "cell_type": "code",
   "execution_count": 22,
   "metadata": {},
   "outputs": [],
   "source": [
    "predictions = open(\"Downloads/assignment1/predictions_Read.txt\", 'w')\n",
    "for l in open(\"Downloads/assignment1/pairs_Read.txt\"):\n",
    "    if l.startswith(\"userID\"):\n",
    "    #header\n",
    "        predictions.write(l)\n",
    "        continue\n",
    "    u,b = l.strip().split('-')\n",
    "    if (u,b) in rank:\n",
    "        predictions.write(u + '-' + b + \",1\\n\")\n",
    "    else:\n",
    "        predictions.write(u + '-' + b + \",0\\n\")\n",
    "        \n",
    "predictions.close()"
   ]
  },
  {
   "cell_type": "code",
   "execution_count": null,
   "metadata": {},
   "outputs": [],
   "source": []
  },
  {
   "cell_type": "code",
   "execution_count": null,
   "metadata": {},
   "outputs": [],
   "source": []
  },
  {
   "cell_type": "markdown",
   "metadata": {
    "scrolled": false
   },
   "source": [
    "Validation prediction"
   ]
  },
  {
   "cell_type": "code",
   "execution_count": 26,
   "metadata": {},
   "outputs": [],
   "source": [
    "import random\n",
    "\n",
    "neg = []\n",
    "\n",
    "for i in X_valid:\n",
    "    r = {'userID': 0, 'bookID': 0, 'read': 0}\n",
    "    r['userID'] = i['userID']\n",
    "    book = random.sample(books,1)[0]\n",
    "    while (book in BooksPerUser[r['userID']]):\n",
    "        book = random.sample(books,1)[0]\n",
    "    r['bookID'] = book\n",
    "    neg.append(r)"
   ]
  },
  {
   "cell_type": "code",
   "execution_count": null,
   "metadata": {},
   "outputs": [],
   "source": []
  },
  {
   "cell_type": "code",
   "execution_count": 27,
   "metadata": {},
   "outputs": [],
   "source": [
    "pos = [{'userID': i['userID'], 'bookID': i['bookID'], 'read':1} for i in X_valid]\n",
    "mix = pos + neg"
   ]
  },
  {
   "cell_type": "code",
   "execution_count": 28,
   "metadata": {},
   "outputs": [],
   "source": [
    "usersPerBook = defaultdict(set)\n",
    "BooksPerUser = defaultdict(set)\n",
    "books = set()\n",
    "for d in X_train:\n",
    "    u,b = d['userID'], d['bookID']\n",
    "    usersPerBook[b].add(u)\n",
    "    BooksPerUser[u].add(b)\n",
    "    if (b not in books):\n",
    "        books.add(b)"
   ]
  },
  {
   "cell_type": "code",
   "execution_count": 29,
   "metadata": {},
   "outputs": [],
   "source": [
    "BooksPerUserValid = defaultdict(set)\n",
    "for d in mix:\n",
    "    u,b = d['userID'], d['bookID']\n",
    "    BooksPerUserValid[u].add(b)"
   ]
  },
  {
   "cell_type": "code",
   "execution_count": 30,
   "metadata": {},
   "outputs": [
    {
     "data": {
      "application/vnd.jupyter.widget-view+json": {
       "model_id": "1948c875646f449a8513c176962ba111",
       "version_major": 2,
       "version_minor": 0
      },
      "text/plain": [
       "HBox(children=(IntProgress(value=0, max=6288), HTML(value='')))"
      ]
     },
     "metadata": {},
     "output_type": "display_data"
    },
    {
     "name": "stdout",
     "output_type": "stream",
     "text": [
      "\n"
     ]
    }
   ],
   "source": [
    "BooksPerUserValidScore = defaultdict(set)\n",
    "for u in tqdm(BooksPerUserValid):\n",
    "    for b in BooksPerUserValid[u]:\n",
    "        pop = popularity(b)\n",
    "        jac = Jaccard_score(u,b)\n",
    "        cos = cos_score(u,b)\n",
    "        #jacc2 = Jaccard_score_book(u,b)\n",
    "        dp = (jac * cos) / pop\n",
    "        BooksPerUserValidScore[u].add((dp, b))"
   ]
  },
  {
   "cell_type": "code",
   "execution_count": 31,
   "metadata": {},
   "outputs": [],
   "source": [
    "rank_valid = []\n",
    "for u in BooksPerUserValidScore:\n",
    "    BooksPerUserValidScore[u] = sorted(BooksPerUserValidScore[u], reverse = True)\n",
    "    length = math.ceil(len(BooksPerUserValidScore[u])/2)\n",
    "    count = 0\n",
    "    for pair in BooksPerUserValidScore[u]:\n",
    "        if count != length:\n",
    "            rank_valid.append((u,pair[1]))\n",
    "            count = count + 1\n",
    "        else:\n",
    "            break"
   ]
  },
  {
   "cell_type": "code",
   "execution_count": 32,
   "metadata": {},
   "outputs": [],
   "source": [
    "validateSet = []\n",
    "trueSet = []\n",
    "\n",
    "for i in mix:\n",
    "    if ((i['userID'], i['bookID']) in rank_valid):\n",
    "        validateSet.append(True)\n",
    "    else:\n",
    "        validateSet.append(False)\n",
    "        \n",
    "    if (i['read'] == 1):\n",
    "        trueSet.append(True)\n",
    "    else:\n",
    "        trueSet.append(False)"
   ]
  },
  {
   "cell_type": "code",
   "execution_count": 33,
   "metadata": {},
   "outputs": [
    {
     "name": "stdout",
     "output_type": "stream",
     "text": [
      "accuracy = 0.7079\n"
     ]
    }
   ],
   "source": [
    "zipping = list(zip(validateSet, trueSet))\n",
    "acc = [i[0] == i[1] for i in zipping]\n",
    "accuracy = sum(acc)/len(acc)\n",
    "print(\"accuracy = \" + str(accuracy))"
   ]
  },
  {
   "cell_type": "code",
   "execution_count": null,
   "metadata": {},
   "outputs": [],
   "source": []
  },
  {
   "cell_type": "markdown",
   "metadata": {},
   "source": [
    "On whole data"
   ]
  },
  {
   "cell_type": "code",
   "execution_count": null,
   "metadata": {},
   "outputs": [],
   "source": [
    "usersPerBook = defaultdict(set)\n",
    "BooksPerUser = defaultdict(set)\n",
    "books = set()\n",
    "for d in dataset:\n",
    "    u,b = d['userID'], d['bookID']\n",
    "    usersPerBook[b].add(u)\n",
    "    BooksPerUser[u].add(b)\n",
    "    if (b not in books):\n",
    "        books.add(b)"
   ]
  },
  {
   "cell_type": "code",
   "execution_count": 260,
   "metadata": {},
   "outputs": [
    {
     "data": {
      "application/vnd.jupyter.widget-view+json": {
       "model_id": "cffe486924ae44f58be4bf2adaec4f9d",
       "version_major": 2,
       "version_minor": 0
      },
      "text/plain": [
       "HBox(children=(IntProgress(value=0, max=200000), HTML(value='')))"
      ]
     },
     "metadata": {},
     "output_type": "display_data"
    },
    {
     "name": "stdout",
     "output_type": "stream",
     "text": [
      "\n"
     ]
    }
   ],
   "source": [
    "import random\n",
    "\n",
    "neg = []\n",
    "\n",
    "for i in tqdm(dataset):\n",
    "    r = {'userID': 0, 'bookID': 0, 'read': 0}\n",
    "    r['userID'] = i['userID']\n",
    "    book = random.sample(books,1)[0]\n",
    "    while (book in BooksPerUser[r['userID']]):\n",
    "        book = random.sample(books,1)[0]\n",
    "    r['bookID'] = book\n",
    "    neg.append(r)"
   ]
  },
  {
   "cell_type": "code",
   "execution_count": 261,
   "metadata": {},
   "outputs": [
    {
     "data": {
      "application/vnd.jupyter.widget-view+json": {
       "model_id": "40d225ec5e4343c4b8c2ae2df1569337",
       "version_major": 2,
       "version_minor": 0
      },
      "text/plain": [
       "HBox(children=(IntProgress(value=0, max=200000), HTML(value='')))"
      ]
     },
     "metadata": {},
     "output_type": "display_data"
    },
    {
     "name": "stdout",
     "output_type": "stream",
     "text": [
      "\n"
     ]
    }
   ],
   "source": [
    "pos = [{'userID': i['userID'], 'bookID': i['bookID'], 'read':1} for i in tqdm(dataset)]\n",
    "mix = pos + neg"
   ]
  },
  {
   "cell_type": "code",
   "execution_count": 262,
   "metadata": {},
   "outputs": [
    {
     "data": {
      "application/vnd.jupyter.widget-view+json": {
       "model_id": "2842f9b86d6848f58b0b949f86eaeeaf",
       "version_major": 2,
       "version_minor": 0
      },
      "text/plain": [
       "HBox(children=(IntProgress(value=0, max=11357), HTML(value='')))"
      ]
     },
     "metadata": {},
     "output_type": "display_data"
    },
    {
     "name": "stdout",
     "output_type": "stream",
     "text": [
      "\n"
     ]
    }
   ],
   "source": [
    "BooksPerUserScore = defaultdict(set)\n",
    "for u in tqdm(BooksPerUser):\n",
    "    for b in BooksPerUser[u]:\n",
    "        pop = popularity(b)\n",
    "        jac = Jaccard_score(u,b)\n",
    "        cos = cos_score(u,b)\n",
    "        #jacc2 = Jaccard_score_book(u,b)\n",
    "        dp = (jac * cos) * pop\n",
    "        BooksPerUserScore[u].add((dp, b))"
   ]
  },
  {
   "cell_type": "code",
   "execution_count": 251,
   "metadata": {},
   "outputs": [],
   "source": [
    "rank_valid = []\n",
    "for u in BooksPerUserScore:\n",
    "    BooksPerUserScore[u] = sorted(BooksPerUserScore[u], reverse = True)\n",
    "    length = math.ceil(len(BooksPerUserScore[u])/2)\n",
    "    count = 0\n",
    "    for pair in BooksPerUserScore[u]:\n",
    "        if count != length:\n",
    "            rank_valid.append((u,pair[1]))\n",
    "            count = count + 1\n",
    "        else:\n",
    "            break"
   ]
  },
  {
   "cell_type": "code",
   "execution_count": 254,
   "metadata": {},
   "outputs": [
    {
     "data": {
      "application/vnd.jupyter.widget-view+json": {
       "model_id": "97a9f019b7cb4a7c8b092860266ac06e",
       "version_major": 2,
       "version_minor": 0
      },
      "text/plain": [
       "HBox(children=(IntProgress(value=0, max=400000), HTML(value='')))"
      ]
     },
     "metadata": {},
     "output_type": "display_data"
    },
    {
     "name": "stdout",
     "output_type": "stream",
     "text": [
      "\n"
     ]
    }
   ],
   "source": [
    "validateSet = []\n",
    "trueSet = []\n",
    "\n",
    "for i in tqdm(mix):\n",
    "    if ((i['userID'], i['bookID']) in rank_valid):\n",
    "        validateSet.append(True)\n",
    "    else:\n",
    "        validateSet.append(False)\n",
    "        \n",
    "    if (i['read'] == 1):\n",
    "        trueSet.append(True)\n",
    "    else:\n",
    "        trueSet.append(False)"
   ]
  },
  {
   "cell_type": "code",
   "execution_count": 255,
   "metadata": {},
   "outputs": [
    {
     "name": "stdout",
     "output_type": "stream",
     "text": [
      "accuracy = 0.7570675\n"
     ]
    }
   ],
   "source": [
    "zipping = list(zip(validateSet, trueSet))\n",
    "acc = [i[0] == i[1] for i in zipping]\n",
    "accuracy = sum(acc)/len(acc)\n",
    "print(\"accuracy = \" + str(accuracy))"
   ]
  },
  {
   "cell_type": "code",
   "execution_count": null,
   "metadata": {},
   "outputs": [],
   "source": []
  }
 ],
 "metadata": {
  "kernelspec": {
   "display_name": "Python 3",
   "language": "python",
   "name": "python3"
  },
  "language_info": {
   "codemirror_mode": {
    "name": "ipython",
    "version": 3
   },
   "file_extension": ".py",
   "mimetype": "text/x-python",
   "name": "python",
   "nbconvert_exporter": "python",
   "pygments_lexer": "ipython3",
   "version": "3.8.3"
  }
 },
 "nbformat": 4,
 "nbformat_minor": 2
}
